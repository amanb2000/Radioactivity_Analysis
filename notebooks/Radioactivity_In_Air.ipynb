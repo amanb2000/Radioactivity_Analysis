{
 "cells": [
  {
   "cell_type": "markdown",
   "metadata": {},
   "source": [
    "# Radioactivity in Air Analysis\n",
    "\n",
    "## Introduction\n",
    "\n",
    "The goal of this experiment is to measure and identify radioactive substances in the air with high accuracy and specificity. Isotopes of interest include:\n",
    "\n",
    "1. Uranium-238 => Lead-206\n",
    "2. Thorium-232 => Lead-208\n",
    "3. Uranian-235 => Lead-207\n",
    "\n",
    "Our criteria for differentiating isotopes depends on ____\n",
    "\n",
    "### Equipment\n",
    "\n",
    "1. Geiger-Mueller Tube: Radiation measurement.\n",
    "    * Tube has ionized gas, any ionizing radiation causes a negative charge accumulation.\n",
    "2. Picker-Scaler: Power supply.\n",
    "3. DAQ/Computer Setup.\n",
    "\n",
    "## Data Collection\n",
    "\n",
    "### Cesium-137 Calibration Data for Voltage\n",
    "\n",
    "* Geiger-Mueller count was taken for 4 rounds of 15 seconds per trial.\n",
    "* Trials ranged from 500-1000 Volts in increments of 50 for a total of 10 trials.\n",
    "* The result was used to determine the optimal voltage for the remaining data collection exercises.\n",
    "* Error per trial: +/- 1 click.\n",
    "\n",
    "### Background Radiation Measurement\n",
    "\n",
    "* \n",
    "\n"
   ]
  },
  {
   "cell_type": "code",
   "execution_count": 2,
   "metadata": {},
   "outputs": [],
   "source": [
    "### IMPORT BOX ###\n",
    "import pandas as pd"
   ]
  },
  {
   "cell_type": "code",
   "execution_count": 9,
   "metadata": {},
   "outputs": [
    {
     "name": "stdout",
     "output_type": "stream",
     "text": [
      "600\n",
      "650\n",
      "700\n",
      "750\n",
      "800\n",
      "850\n",
      "900\n",
      "950\n",
      "1000\n"
     ]
    },
    {
     "data": {
      "text/html": [
       "<div>\n",
       "<style scoped>\n",
       "    .dataframe tbody tr th:only-of-type {\n",
       "        vertical-align: middle;\n",
       "    }\n",
       "\n",
       "    .dataframe tbody tr th {\n",
       "        vertical-align: top;\n",
       "    }\n",
       "\n",
       "    .dataframe thead th {\n",
       "        text-align: right;\n",
       "    }\n",
       "</style>\n",
       "<table border=\"1\" class=\"dataframe\">\n",
       "  <thead>\n",
       "    <tr style=\"text-align: right;\">\n",
       "      <th></th>\n",
       "      <th>Radioactive Decay Experiment Wed, Feb 26, 2020 10:56 AM</th>\n",
       "    </tr>\n",
       "  </thead>\n",
       "  <tbody>\n",
       "    <tr>\n",
       "      <th>1</th>\n",
       "      <td>654</td>\n",
       "    </tr>\n",
       "    <tr>\n",
       "      <th>2</th>\n",
       "      <td>712</td>\n",
       "    </tr>\n",
       "    <tr>\n",
       "      <th>3</th>\n",
       "      <td>666</td>\n",
       "    </tr>\n",
       "    <tr>\n",
       "      <th>4</th>\n",
       "      <td>730</td>\n",
       "    </tr>\n",
       "    <tr>\n",
       "      <th>5</th>\n",
       "      <td>661</td>\n",
       "    </tr>\n",
       "    <tr>\n",
       "      <th>6</th>\n",
       "      <td>639</td>\n",
       "    </tr>\n",
       "    <tr>\n",
       "      <th>7</th>\n",
       "      <td>712</td>\n",
       "    </tr>\n",
       "    <tr>\n",
       "      <th>8</th>\n",
       "      <td>639</td>\n",
       "    </tr>\n",
       "  </tbody>\n",
       "</table>\n",
       "</div>"
      ],
      "text/plain": [
       "   Radioactive Decay Experiment Wed, Feb 26, 2020 10:56 AM\n",
       "1                                                654      \n",
       "2                                                712      \n",
       "3                                                666      \n",
       "4                                                730      \n",
       "5                                                661      \n",
       "6                                                639      \n",
       "7                                                712      \n",
       "8                                                639      "
      ]
     },
     "execution_count": 9,
     "metadata": {},
     "output_type": "execute_result"
    }
   ],
   "source": [
    "### CESIUM DATA ANALYSIS ###\n",
    "\n",
    "path = '../data/cesium-calibration/'\n",
    "df_list = []\n",
    "\n",
    "for i in range(600, 1001, 50):\n",
    "    print(i)\n",
    "    tmp_df = pd.read_csv(str(path + str(i) + '.txt'), sep='\\t')[1:]\n",
    "    tmp_df.\n",
    "    \n",
    "    df_list.append()\n",
    "    \n",
    "df_list[3]\n"
   ]
  },
  {
   "cell_type": "code",
   "execution_count": null,
   "metadata": {},
   "outputs": [],
   "source": []
  }
 ],
 "metadata": {
  "kernelspec": {
   "display_name": "Python 3",
   "language": "python",
   "name": "python3"
  },
  "language_info": {
   "codemirror_mode": {
    "name": "ipython",
    "version": 3
   },
   "file_extension": ".py",
   "mimetype": "text/x-python",
   "name": "python",
   "nbconvert_exporter": "python",
   "pygments_lexer": "ipython3",
   "version": "3.7.1"
  }
 },
 "nbformat": 4,
 "nbformat_minor": 4
}
