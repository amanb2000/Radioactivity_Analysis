{
 "cells": [
  {
   "cell_type": "markdown",
   "metadata": {},
   "source": [
    "# Radioactivity in Air Analysis\n",
    "\n",
    "## Introduction\n",
    "\n",
    "### Equipment\n",
    "\n",
    "1. Geiger-Mueller Tube: Radiation measurement.\n",
    "    * Tube has ionized gas, any ionizing radiation causes a negative charge accumulation.\n",
    "2. Picker-Scaler: Power supply.\n",
    "3. DAQ/Computer Setup.\n",
    "\n",
    "## Data Collection\n",
    "\n",
    "### Cesium-137 Calibration Data for Voltage\n",
    "\n",
    "* Geiger-Mueller count was taken for 4 rounds of 15 seconds per trial.\n",
    "* Trials ranged from 500-1000 Volts in increments of 50 for a total of 10 trials.\n",
    "* The result was used to determine the optimal voltage for the remaining data collection exercises.\n",
    "* Error per trial: +/- 1 click.\n",
    "\n",
    "### Background Radiation Measurement\n",
    "\n",
    "* \n",
    "\n"
   ]
  },
  {
   "cell_type": "code",
   "execution_count": null,
   "metadata": {},
   "outputs": [],
   "source": []
  }
 ],
 "metadata": {
  "kernelspec": {
   "display_name": "Python 3",
   "language": "python",
   "name": "python3"
  },
  "language_info": {
   "codemirror_mode": {
    "name": "ipython",
    "version": 3
   },
   "file_extension": ".py",
   "mimetype": "text/x-python",
   "name": "python",
   "nbconvert_exporter": "python",
   "pygments_lexer": "ipython3",
   "version": "3.7.1"
  }
 },
 "nbformat": 4,
 "nbformat_minor": 4
}
