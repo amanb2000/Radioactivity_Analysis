{
 "cells": [
  {
   "cell_type": "markdown",
   "metadata": {},
   "source": [
    "# Pandas Reference Document\n",
    "## Topics Covered:\n",
    "1. Getting data and naming columns\n",
    "2. Observing dataframe\n",
    "3. Stats & Sorting\n",
    "4. Slicing\n",
    "5. Filtering\n",
    "6. Iterating (eww)"
   ]
  },
  {
   "cell_type": "code",
   "execution_count": 1,
   "metadata": {},
   "outputs": [],
   "source": [
    "### Import Box\n",
    "import numpy as np\n",
    "import pandas as pd\n",
    "import sys"
   ]
  },
  {
   "cell_type": "code",
   "execution_count": 2,
   "metadata": {},
   "outputs": [
    {
     "ename": "ValueError",
     "evalue": "Length mismatch: Expected axis has 8 elements, new values have 5 elements",
     "output_type": "error",
     "traceback": [
      "\u001b[0;31m---------------------------------------------------------------------------\u001b[0m",
      "\u001b[0;31mValueError\u001b[0m                                Traceback (most recent call last)",
      "\u001b[0;32m<ipython-input-2-c6680a6aadba>\u001b[0m in \u001b[0;36m<module>\u001b[0;34m\u001b[0m\n\u001b[1;32m      4\u001b[0m \u001b[0;34m\u001b[0m\u001b[0m\n\u001b[1;32m      5\u001b[0m \u001b[0mdf\u001b[0m \u001b[0;34m=\u001b[0m \u001b[0mpd\u001b[0m\u001b[0;34m.\u001b[0m\u001b[0mread_csv\u001b[0m\u001b[0;34m(\u001b[0m\u001b[0mpath_to_file\u001b[0m\u001b[0;34m)\u001b[0m \u001b[0;31m# Reading the csv\u001b[0m\u001b[0;34m\u001b[0m\u001b[0;34m\u001b[0m\u001b[0m\n\u001b[0;32m----> 6\u001b[0;31m \u001b[0mdf\u001b[0m\u001b[0;34m.\u001b[0m\u001b[0mcolumns\u001b[0m \u001b[0;34m=\u001b[0m \u001b[0;34m[\u001b[0m\u001b[0;34m'date'\u001b[0m\u001b[0;34m,\u001b[0m \u001b[0;34m'transactionERROR'\u001b[0m\u001b[0;34m,\u001b[0m \u001b[0;34m'debit'\u001b[0m\u001b[0;34m,\u001b[0m \u001b[0;34m'credit'\u001b[0m\u001b[0;34m,\u001b[0m \u001b[0;34m'account'\u001b[0m\u001b[0;34m]\u001b[0m \u001b[0;31m# Resetting columns\u001b[0m\u001b[0;34m\u001b[0m\u001b[0;34m\u001b[0m\u001b[0m\n\u001b[0m\u001b[1;32m      7\u001b[0m \u001b[0;31m# Fixing one column:\u001b[0m\u001b[0;34m\u001b[0m\u001b[0;34m\u001b[0m\u001b[0;34m\u001b[0m\u001b[0m\n\u001b[1;32m      8\u001b[0m \u001b[0mdf\u001b[0m\u001b[0;34m.\u001b[0m\u001b[0mrename\u001b[0m\u001b[0;34m(\u001b[0m\u001b[0mcolumns\u001b[0m\u001b[0;34m=\u001b[0m\u001b[0;34m{\u001b[0m\u001b[0;34m'transactionERROR'\u001b[0m\u001b[0;34m:\u001b[0m\u001b[0;34m'transaction'\u001b[0m\u001b[0;34m}\u001b[0m\u001b[0;34m,\u001b[0m \u001b[0minplace\u001b[0m \u001b[0;34m=\u001b[0m \u001b[0;32mTrue\u001b[0m\u001b[0;34m)\u001b[0m\u001b[0;34m\u001b[0m\u001b[0;34m\u001b[0m\u001b[0m\n",
      "\u001b[0;32m~/.local/lib/python3.7/site-packages/pandas/core/generic.py\u001b[0m in \u001b[0;36m__setattr__\u001b[0;34m(self, name, value)\u001b[0m\n\u001b[1;32m   5190\u001b[0m         \u001b[0;32mtry\u001b[0m\u001b[0;34m:\u001b[0m\u001b[0;34m\u001b[0m\u001b[0;34m\u001b[0m\u001b[0m\n\u001b[1;32m   5191\u001b[0m             \u001b[0mobject\u001b[0m\u001b[0;34m.\u001b[0m\u001b[0m__getattribute__\u001b[0m\u001b[0;34m(\u001b[0m\u001b[0mself\u001b[0m\u001b[0;34m,\u001b[0m \u001b[0mname\u001b[0m\u001b[0;34m)\u001b[0m\u001b[0;34m\u001b[0m\u001b[0;34m\u001b[0m\u001b[0m\n\u001b[0;32m-> 5192\u001b[0;31m             \u001b[0;32mreturn\u001b[0m \u001b[0mobject\u001b[0m\u001b[0;34m.\u001b[0m\u001b[0m__setattr__\u001b[0m\u001b[0;34m(\u001b[0m\u001b[0mself\u001b[0m\u001b[0;34m,\u001b[0m \u001b[0mname\u001b[0m\u001b[0;34m,\u001b[0m \u001b[0mvalue\u001b[0m\u001b[0;34m)\u001b[0m\u001b[0;34m\u001b[0m\u001b[0;34m\u001b[0m\u001b[0m\n\u001b[0m\u001b[1;32m   5193\u001b[0m         \u001b[0;32mexcept\u001b[0m \u001b[0mAttributeError\u001b[0m\u001b[0;34m:\u001b[0m\u001b[0;34m\u001b[0m\u001b[0;34m\u001b[0m\u001b[0m\n\u001b[1;32m   5194\u001b[0m             \u001b[0;32mpass\u001b[0m\u001b[0;34m\u001b[0m\u001b[0;34m\u001b[0m\u001b[0m\n",
      "\u001b[0;32mpandas/_libs/properties.pyx\u001b[0m in \u001b[0;36mpandas._libs.properties.AxisProperty.__set__\u001b[0;34m()\u001b[0m\n",
      "\u001b[0;32m~/.local/lib/python3.7/site-packages/pandas/core/generic.py\u001b[0m in \u001b[0;36m_set_axis\u001b[0;34m(self, axis, labels)\u001b[0m\n\u001b[1;32m    688\u001b[0m \u001b[0;34m\u001b[0m\u001b[0m\n\u001b[1;32m    689\u001b[0m     \u001b[0;32mdef\u001b[0m \u001b[0m_set_axis\u001b[0m\u001b[0;34m(\u001b[0m\u001b[0mself\u001b[0m\u001b[0;34m,\u001b[0m \u001b[0maxis\u001b[0m\u001b[0;34m,\u001b[0m \u001b[0mlabels\u001b[0m\u001b[0;34m)\u001b[0m\u001b[0;34m:\u001b[0m\u001b[0;34m\u001b[0m\u001b[0;34m\u001b[0m\u001b[0m\n\u001b[0;32m--> 690\u001b[0;31m         \u001b[0mself\u001b[0m\u001b[0;34m.\u001b[0m\u001b[0m_data\u001b[0m\u001b[0;34m.\u001b[0m\u001b[0mset_axis\u001b[0m\u001b[0;34m(\u001b[0m\u001b[0maxis\u001b[0m\u001b[0;34m,\u001b[0m \u001b[0mlabels\u001b[0m\u001b[0;34m)\u001b[0m\u001b[0;34m\u001b[0m\u001b[0;34m\u001b[0m\u001b[0m\n\u001b[0m\u001b[1;32m    691\u001b[0m         \u001b[0mself\u001b[0m\u001b[0;34m.\u001b[0m\u001b[0m_clear_item_cache\u001b[0m\u001b[0;34m(\u001b[0m\u001b[0;34m)\u001b[0m\u001b[0;34m\u001b[0m\u001b[0;34m\u001b[0m\u001b[0m\n\u001b[1;32m    692\u001b[0m \u001b[0;34m\u001b[0m\u001b[0m\n",
      "\u001b[0;32m~/.local/lib/python3.7/site-packages/pandas/core/internals/managers.py\u001b[0m in \u001b[0;36mset_axis\u001b[0;34m(self, axis, new_labels)\u001b[0m\n\u001b[1;32m    181\u001b[0m             raise ValueError(\n\u001b[1;32m    182\u001b[0m                 \u001b[0;34m\"Length mismatch: Expected axis has {old} elements, new \"\u001b[0m\u001b[0;34m\u001b[0m\u001b[0;34m\u001b[0m\u001b[0m\n\u001b[0;32m--> 183\u001b[0;31m                 \u001b[0;34m\"values have {new} elements\"\u001b[0m\u001b[0;34m.\u001b[0m\u001b[0mformat\u001b[0m\u001b[0;34m(\u001b[0m\u001b[0mold\u001b[0m\u001b[0;34m=\u001b[0m\u001b[0mold_len\u001b[0m\u001b[0;34m,\u001b[0m \u001b[0mnew\u001b[0m\u001b[0;34m=\u001b[0m\u001b[0mnew_len\u001b[0m\u001b[0;34m)\u001b[0m\u001b[0;34m\u001b[0m\u001b[0;34m\u001b[0m\u001b[0m\n\u001b[0m\u001b[1;32m    184\u001b[0m             )\n\u001b[1;32m    185\u001b[0m \u001b[0;34m\u001b[0m\u001b[0m\n",
      "\u001b[0;31mValueError\u001b[0m: Length mismatch: Expected axis has 8 elements, new values have 5 elements"
     ]
    }
   ],
   "source": [
    "### Get data and name columns\n",
    "\n",
    "path_to_file = '../data/12-2019.csv'\n",
    "\n",
    "df = pd.read_csv(path_to_file) # Reading the csv\n",
    "df.columns = ['date', 'transactionERROR', 'debit', 'credit', 'account'] # Resetting columns\n",
    "# Fixing one column: \n",
    "df.rename(columns={'transactionERROR':'transaction'}, inplace = True)"
   ]
  },
  {
   "cell_type": "code",
   "execution_count": 38,
   "metadata": {},
   "outputs": [],
   "source": [
    "### Observing the dataframe\n",
    "\n",
    "df.head() # first 5\n",
    "df.tail(3) # last 3\n",
    "df.values # returns an array of all values.\n",
    "df.dtypes # returns the datatypes of each column\n",
    "df.index # index (default is just a number 0...length). Gives you the start, stop, and step.\n",
    "cols = df.columns # gives you the columns. Output is a Pandas `Index`, but can easily be made into a list."
   ]
  },
  {
   "cell_type": "code",
   "execution_count": 39,
   "metadata": {},
   "outputs": [
    {
     "data": {
      "text/html": [
       "<div>\n",
       "<style scoped>\n",
       "    .dataframe tbody tr th:only-of-type {\n",
       "        vertical-align: middle;\n",
       "    }\n",
       "\n",
       "    .dataframe tbody tr th {\n",
       "        vertical-align: top;\n",
       "    }\n",
       "\n",
       "    .dataframe thead th {\n",
       "        text-align: right;\n",
       "    }\n",
       "</style>\n",
       "<table border=\"1\" class=\"dataframe\">\n",
       "  <thead>\n",
       "    <tr style=\"text-align: right;\">\n",
       "      <th></th>\n",
       "      <th>date</th>\n",
       "      <th>transaction</th>\n",
       "      <th>debit</th>\n",
       "      <th>credit</th>\n",
       "      <th>account</th>\n",
       "    </tr>\n",
       "  </thead>\n",
       "  <tbody>\n",
       "    <tr>\n",
       "      <th>9</th>\n",
       "      <td>2019-12-23</td>\n",
       "      <td>THE SOUND POST TORONTO, ON</td>\n",
       "      <td>137.80</td>\n",
       "      <td>NaN</td>\n",
       "      <td>4505********2860</td>\n",
       "    </tr>\n",
       "    <tr>\n",
       "      <th>56</th>\n",
       "      <td>2019-12-04</td>\n",
       "      <td>BELL CANADA (OB) MONTREAL, QC</td>\n",
       "      <td>135.54</td>\n",
       "      <td>NaN</td>\n",
       "      <td>4505********2860</td>\n",
       "    </tr>\n",
       "    <tr>\n",
       "      <th>34</th>\n",
       "      <td>2019-12-13</td>\n",
       "      <td>EMOTIV 4155253149, CA 99.00 USD @ 1.352626</td>\n",
       "      <td>133.91</td>\n",
       "      <td>NaN</td>\n",
       "      <td>4505********2860</td>\n",
       "    </tr>\n",
       "  </tbody>\n",
       "</table>\n",
       "</div>"
      ],
      "text/plain": [
       "          date                                 transaction   debit  credit  \\\n",
       "9   2019-12-23                  THE SOUND POST TORONTO, ON  137.80     NaN   \n",
       "56  2019-12-04               BELL CANADA (OB) MONTREAL, QC  135.54     NaN   \n",
       "34  2019-12-13  EMOTIV 4155253149, CA 99.00 USD @ 1.352626  133.91     NaN   \n",
       "\n",
       "             account  \n",
       "9   4505********2860  \n",
       "56  4505********2860  \n",
       "34  4505********2860  "
      ]
     },
     "execution_count": 39,
     "metadata": {},
     "output_type": "execute_result"
    }
   ],
   "source": [
    "### Statistics on the data & Sorting\n",
    "\n",
    "df.describe() # Returns dataframe of stats on the data (non-object data)\n",
    "    # count: umber of non-empty entries in float columns.\n",
    "    # Mean, standard distribution, minimum, 25%, 50%, 75%, and max. \n",
    "\n",
    "df.sort_values('debit', ascending = False).head(3)\n",
    "    # Returns sorted dataframe. \n",
    "    # First argument is the column to sort by.\n",
    "    # Second argument is optional to specify `ascending` as True/False"
   ]
  },
  {
   "cell_type": "code",
   "execution_count": 40,
   "metadata": {},
   "outputs": [
    {
     "data": {
      "text/html": [
       "<div>\n",
       "<style scoped>\n",
       "    .dataframe tbody tr th:only-of-type {\n",
       "        vertical-align: middle;\n",
       "    }\n",
       "\n",
       "    .dataframe tbody tr th {\n",
       "        vertical-align: top;\n",
       "    }\n",
       "\n",
       "    .dataframe thead th {\n",
       "        text-align: right;\n",
       "    }\n",
       "</style>\n",
       "<table border=\"1\" class=\"dataframe\">\n",
       "  <thead>\n",
       "    <tr style=\"text-align: right;\">\n",
       "      <th></th>\n",
       "      <th>transaction</th>\n",
       "      <th>debit</th>\n",
       "    </tr>\n",
       "  </thead>\n",
       "  <tbody>\n",
       "    <tr>\n",
       "      <th>2</th>\n",
       "      <td>ADOBE *800-833-6687 800-833-6687, CA 33.89 USD...</td>\n",
       "      <td>45.81</td>\n",
       "    </tr>\n",
       "    <tr>\n",
       "      <th>3</th>\n",
       "      <td>Amazon.ca*063SZ99G3 AMAZON.CA, ON</td>\n",
       "      <td>10.49</td>\n",
       "    </tr>\n",
       "  </tbody>\n",
       "</table>\n",
       "</div>"
      ],
      "text/plain": [
       "                                         transaction  debit\n",
       "2  ADOBE *800-833-6687 800-833-6687, CA 33.89 USD...  45.81\n",
       "3                  Amazon.ca*063SZ99G3 AMAZON.CA, ON  10.49"
      ]
     },
     "execution_count": 40,
     "metadata": {},
     "output_type": "execute_result"
    }
   ],
   "source": [
    "### Slicing Data\n",
    "\n",
    "# 1. Get single column of data: \n",
    "df.date \n",
    "df['date']\n",
    "\n",
    "# 2. Get range of rows:\n",
    "df[2:4] # non-inclusive of upper bound\n",
    "\n",
    "# 3. Get multiple columns at once:\n",
    "df[['transaction', 'debit']]\n",
    "    # Remember to have a nested list!\n",
    "    \n",
    "df.loc[:, ['transaction', 'debit']]\n",
    "\n",
    "# 4. Specifying column AND row ranges\n",
    "df.loc[2:4, ['transaction', 'credit']] # Need to use loc for specifying columns by name\n",
    "\n",
    "df.iloc[2:4, [1,2]] # Need to use iloc for referencing columns by index"
   ]
  },
  {
   "cell_type": "code",
   "execution_count": 41,
   "metadata": {},
   "outputs": [
    {
     "name": "stdout",
     "output_type": "stream",
     "text": [
      "Most expensive debit transactions:\n",
      "          date                                 transaction   debit  credit  \\\n",
      "9   2019-12-23                  THE SOUND POST TORONTO, ON  137.80     NaN   \n",
      "56  2019-12-04               BELL CANADA (OB) MONTREAL, QC  135.54     NaN   \n",
      "34  2019-12-13  EMOTIV 4155253149, CA 99.00 USD @ 1.352626  133.91     NaN   \n",
      "1   2019-12-27           Amazon.ca*M187Y10O1 AMAZON.CA, ON  118.64     NaN   \n",
      "25  2019-12-16                       UBER BV HELP.UBER.COM   81.03     NaN   \n",
      "\n",
      "             account  \n",
      "9   4505********2860  \n",
      "56  4505********2860  \n",
      "34  4505********2860  \n",
      "1   4505********2860  \n",
      "25  4505********2860  \n",
      "Uber Rides: \n",
      "          date            transaction  debit  credit           account\n",
      "17  2019-12-20  UBER BV HELP.UBER.COM  17.48     NaN  4505********2860\n",
      "18  2019-12-20  UBER BV HELP.UBER.COM  24.97     NaN  4505********2860\n",
      "25  2019-12-16  UBER BV HELP.UBER.COM  81.03     NaN  4505********2860\n",
      "51  2019-12-06  UBER BV HELP.UBER.COM  59.61     NaN  4505********2860\n",
      "53  2019-12-06  UBER BV HELP.UBER.COM  25.52     NaN  4505********2860\n"
     ]
    }
   ],
   "source": [
    "### Filtering Data\n",
    "print('Most expensive debit transactions:')\n",
    "print(df[df['debit'] > 0].sort_values('debit', ascending=False).head())\n",
    "\n",
    "\n",
    "print('Uber Rides: ')\n",
    "print(df[df['transaction'].isin(['UBER BV HELP.UBER.COM'])])"
   ]
  },
  {
   "cell_type": "code",
   "execution_count": 24,
   "metadata": {},
   "outputs": [
    {
     "name": "stdout",
     "output_type": "stream",
     "text": [
      "date                 2019-12-27\n",
      "transaction       OVERLIMIT FEE\n",
      "debit                        29\n",
      "credit                      NaN\n",
      "account        4505********2860\n",
      "Name: 0, dtype: object\n",
      "date                                  2019-12-27\n",
      "transaction    Amazon.ca*M187Y10O1 AMAZON.CA, ON\n",
      "debit                                     118.64\n",
      "credit                                       NaN\n",
      "account                         4505********2860\n",
      "Name: 1, dtype: object\n",
      "date                                                  2019-12-27\n",
      "transaction    ADOBE *800-833-6687 800-833-6687, CA 33.89 USD...\n",
      "debit                                                      45.81\n",
      "credit                                                       NaN\n",
      "account                                         4505********2860\n",
      "Name: 2, dtype: object\n"
     ]
    }
   ],
   "source": [
    "### Iterating\n",
    "cnt = 0\n",
    "for index, row in df.iterrows():\n",
    "    print(row)\n",
    "    cnt+= 1\n",
    "    if(cnt > 2):\n",
    "        break"
   ]
  },
  {
   "cell_type": "code",
   "execution_count": 36,
   "metadata": {},
   "outputs": [
    {
     "data": {
      "text/html": [
       "<div>\n",
       "<style scoped>\n",
       "    .dataframe tbody tr th:only-of-type {\n",
       "        vertical-align: middle;\n",
       "    }\n",
       "\n",
       "    .dataframe tbody tr th {\n",
       "        vertical-align: top;\n",
       "    }\n",
       "\n",
       "    .dataframe thead th {\n",
       "        text-align: right;\n",
       "    }\n",
       "</style>\n",
       "<table border=\"1\" class=\"dataframe\">\n",
       "  <thead>\n",
       "    <tr style=\"text-align: right;\">\n",
       "      <th></th>\n",
       "      <th>date</th>\n",
       "      <th>transaction</th>\n",
       "      <th>debit</th>\n",
       "      <th>credit</th>\n",
       "      <th>account</th>\n",
       "      <th>category</th>\n",
       "    </tr>\n",
       "  </thead>\n",
       "  <tbody>\n",
       "    <tr>\n",
       "      <th>0</th>\n",
       "      <td>2019-12-27</td>\n",
       "      <td>OVERLIMIT FEE</td>\n",
       "      <td>29.00</td>\n",
       "      <td>NaN</td>\n",
       "      <td>4505********2860</td>\n",
       "      <td>null</td>\n",
       "    </tr>\n",
       "    <tr>\n",
       "      <th>1</th>\n",
       "      <td>2019-12-27</td>\n",
       "      <td>Amazon.ca*M187Y10O1 AMAZON.CA, ON</td>\n",
       "      <td>118.64</td>\n",
       "      <td>NaN</td>\n",
       "      <td>4505********2860</td>\n",
       "      <td>null</td>\n",
       "    </tr>\n",
       "  </tbody>\n",
       "</table>\n",
       "</div>"
      ],
      "text/plain": [
       "         date                        transaction   debit  credit  \\\n",
       "0  2019-12-27                      OVERLIMIT FEE   29.00     NaN   \n",
       "1  2019-12-27  Amazon.ca*M187Y10O1 AMAZON.CA, ON  118.64     NaN   \n",
       "\n",
       "            account category  \n",
       "0  4505********2860     null  \n",
       "1  4505********2860     null  "
      ]
     },
     "execution_count": 36,
     "metadata": {},
     "output_type": "execute_result"
    }
   ],
   "source": [
    "### Adding a new column\n",
    "\n",
    "df['category'] = 'null'\n",
    "df.head(2)"
   ]
  },
  {
   "cell_type": "code",
   "execution_count": 44,
   "metadata": {},
   "outputs": [
    {
     "ename": "AttributeError",
     "evalue": "module 'pandas' has no attribute 'to_csv'",
     "output_type": "error",
     "traceback": [
      "\u001b[0;31m---------------------------------------------------------------------------\u001b[0m",
      "\u001b[0;31mAttributeError\u001b[0m                            Traceback (most recent call last)",
      "\u001b[0;32m<ipython-input-44-f7b8b7361ac5>\u001b[0m in \u001b[0;36m<module>\u001b[0;34m\u001b[0m\n\u001b[1;32m      1\u001b[0m \u001b[0;31m### Dumping Data back to CSV\u001b[0m\u001b[0;34m\u001b[0m\u001b[0;34m\u001b[0m\u001b[0;34m\u001b[0m\u001b[0m\n\u001b[1;32m      2\u001b[0m \u001b[0;34m\u001b[0m\u001b[0m\n\u001b[0;32m----> 3\u001b[0;31m \u001b[0mpd\u001b[0m\u001b[0;34m.\u001b[0m\u001b[0mto_csv\u001b[0m\u001b[0;34m(\u001b[0m\u001b[0mpath_to_file\u001b[0m\u001b[0;34m)\u001b[0m\u001b[0;34m\u001b[0m\u001b[0;34m\u001b[0m\u001b[0m\n\u001b[0m",
      "\u001b[0;32m~/Documents/Facio_Argentum/fa-env/lib/python3.7/site-packages/pandas/__init__.py\u001b[0m in \u001b[0;36m__getattr__\u001b[0;34m(name)\u001b[0m\n\u001b[1;32m    212\u001b[0m \u001b[0;34m\u001b[0m\u001b[0m\n\u001b[1;32m    213\u001b[0m             \u001b[0;32mreturn\u001b[0m \u001b[0mPanel\u001b[0m\u001b[0;34m\u001b[0m\u001b[0;34m\u001b[0m\u001b[0m\n\u001b[0;32m--> 214\u001b[0;31m         \u001b[0;32mraise\u001b[0m \u001b[0mAttributeError\u001b[0m\u001b[0;34m(\u001b[0m\u001b[0;34m\"module 'pandas' has no attribute '{}'\"\u001b[0m\u001b[0;34m.\u001b[0m\u001b[0mformat\u001b[0m\u001b[0;34m(\u001b[0m\u001b[0mname\u001b[0m\u001b[0;34m)\u001b[0m\u001b[0;34m)\u001b[0m\u001b[0;34m\u001b[0m\u001b[0;34m\u001b[0m\u001b[0m\n\u001b[0m\u001b[1;32m    215\u001b[0m \u001b[0;34m\u001b[0m\u001b[0m\n\u001b[1;32m    216\u001b[0m \u001b[0;34m\u001b[0m\u001b[0m\n",
      "\u001b[0;31mAttributeError\u001b[0m: module 'pandas' has no attribute 'to_csv'"
     ]
    }
   ],
   "source": [
    "### Dumping Data back to CSV\n",
    "\n",
    "pd.to_csv(path_to_file)\n"
   ]
  },
  {
   "cell_type": "code",
   "execution_count": null,
   "metadata": {},
   "outputs": [],
   "source": []
  }
 ],
 "metadata": {
  "kernelspec": {
   "display_name": "Python 3",
   "language": "python",
   "name": "python3"
  },
  "language_info": {
   "codemirror_mode": {
    "name": "ipython",
    "version": 3
   },
   "file_extension": ".py",
   "mimetype": "text/x-python",
   "name": "python",
   "nbconvert_exporter": "python",
   "pygments_lexer": "ipython3",
   "version": "3.7.1"
  }
 },
 "nbformat": 4,
 "nbformat_minor": 4
}
